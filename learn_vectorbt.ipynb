{
 "cells": [
  {
   "cell_type": "code",
   "execution_count": 1,
   "id": "cdb4ec49",
   "metadata": {},
   "outputs": [
    {
     "name": "stderr",
     "output_type": "stream",
     "text": [
      "d:\\anaconda3\\envs\\quant\\Lib\\site-packages\\telegram\\utils\\request.py:54: UserWarning:\n",
      "\n",
      "python-telegram-bot wasn't properly installed. Please refer to README.rst on how to properly install.\n",
      "\n"
     ]
    }
   ],
   "source": [
    "import numpy as np\n",
    "import pandas as pd\n",
    "from datetime import datetime\n",
    "\n",
    "import vectorbt as vbt\n",
    "\n",
    "from dffc.holt_winters._holt_winters import HW, HWDP"
   ]
  },
  {
   "cell_type": "code",
   "execution_count": 3,
   "id": "2dbe79e4",
   "metadata": {},
   "outputs": [
    {
     "name": "stdout",
     "output_type": "stream",
     "text": [
      "FundData has been registered to vectorbt namespace\n"
     ]
    }
   ],
   "source": [
    "from dffc.fund_data import register_fund_data\n",
    "\n",
    "register_fund_data()"
   ]
  },
  {
   "cell_type": "code",
   "execution_count": null,
   "id": "80825efa",
   "metadata": {},
   "outputs": [],
   "source": [
    "try:\n",
    "    ndgd_price = pd.read_pickle('ndgd_price.pkl')\n",
    "except FileNotFoundError:\n",
    "    ndgd_data = vbt.FundData.download(\n",
    "        ['270042', '002963'],\n",
    "        names=['ND', 'GD'],\n",
    "        start='2022-01-01',\n",
    "        end=\"2025-09-04\"\n",
    "    )\n",
    "    import pickle\n",
    "\n",
    "    ndgd_price = ndgd_data.get('unit_value')['270042'].dropna()\n",
    "    ndgd_price.to_pickle('ndgd_price.pkl')\n",
    "    # ndgd_data = ndgd_data.update(end=\"2025-09-01\")\n"
   ]
  },
  {
   "cell_type": "code",
   "execution_count": 4,
   "id": "a089295e",
   "metadata": {},
   "outputs": [],
   "source": [
    "ndgd_data = vbt.FundData.download(\n",
    "    ['270042', '002963'],\n",
    "    names=['ND', 'GD'],\n",
    "    start='2022-01-01',\n",
    "    end=\"2025-09-04\"\n",
    ")"
   ]
  },
  {
   "cell_type": "code",
   "execution_count": 5,
   "id": "915c7412",
   "metadata": {},
   "outputs": [],
   "source": [
    "from dffc.holt_winters._optimization import process_hw_opt, process_single_hw_opt"
   ]
  },
  {
   "cell_type": "code",
   "execution_count": 7,
   "id": "06e0e866",
   "metadata": {},
   "outputs": [],
   "source": [
    "prices = ndgd_data.get('unit_value')"
   ]
  },
  {
   "cell_type": "code",
   "execution_count": null,
   "id": "b70b5047",
   "metadata": {},
   "outputs": [],
   "source": [
    "results = []\n",
    "for col in range(prices.shape[1]):\n",
    "    results.append(process_single_hw_opt(prices.to_numpy()[:, col], \".\", 8))"
   ]
  },
  {
   "cell_type": "code",
   "execution_count": null,
   "id": "32540be1",
   "metadata": {},
   "outputs": [
    {
     "name": "stderr",
     "output_type": "stream",
     "text": [
      "Batch optimizing:   0%|          | 0/11 [00:00<?, ?it/s]"
     ]
    }
   ],
   "source": [
    "result = process_single_hw_opt(prices.to_numpy()[:, 0], \".\", 8)"
   ]
  },
  {
   "cell_type": "code",
   "execution_count": null,
   "id": "43ef9f97",
   "metadata": {},
   "outputs": [],
   "source": [
    "# hw = HW.run(ndgd_price[ndgd_price.index >= \"2022-01-01\"], alpha=0.030732963, beta=0.5, gamma=1, m=14)\n",
    "hw = HW.run(\n",
    "    ndgd_data.get('unit_value'), \n",
    "    alpha=0.5, # fit.params['smoothing_level'],\n",
    "    beta=0.2, # fit.params['smoothing_trend'],\n",
    "    gamma=1, # fit.params['smoothing_seasonal'],\n",
    "    m=14, multiplicative=True\n",
    "    )"
   ]
  },
  {
   "cell_type": "code",
   "execution_count": null,
   "id": "0871da58",
   "metadata": {},
   "outputs": [],
   "source": [
    "pd.concat([fit.fittedvalues, ndgd_price[ndgd_price.index >= \"2022-01-01\"]], axis=1).plot(figsize=(12, 6))"
   ]
  }
 ],
 "metadata": {
  "kernelspec": {
   "display_name": "quant",
   "language": "python",
   "name": "python3"
  },
  "language_info": {
   "codemirror_mode": {
    "name": "ipython",
    "version": 3
   },
   "file_extension": ".py",
   "mimetype": "text/x-python",
   "name": "python",
   "nbconvert_exporter": "python",
   "pygments_lexer": "ipython3",
   "version": "3.12.11"
  }
 },
 "nbformat": 4,
 "nbformat_minor": 5
}
