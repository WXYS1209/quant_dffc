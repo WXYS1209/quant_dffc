{
 "cells": [
  {
   "cell_type": "code",
   "execution_count": 1,
   "id": "cdb4ec49",
   "metadata": {},
   "outputs": [
    {
     "name": "stderr",
     "output_type": "stream",
     "text": [
      "d:\\anaconda3\\envs\\quant\\Lib\\site-packages\\telegram\\utils\\request.py:54: UserWarning:\n",
      "\n",
      "python-telegram-bot wasn't properly installed. Please refer to README.rst on how to properly install.\n",
      "\n"
     ]
    }
   ],
   "source": [
    "import numpy as np\n",
    "import pandas as pd\n",
    "from datetime import datetime\n",
    "\n",
    "import vectorbt as vbt\n",
    "\n",
    "from dffc._holt_winters import HW"
   ]
  },
  {
   "cell_type": "code",
   "execution_count": 3,
   "id": "2dbe79e4",
   "metadata": {},
   "outputs": [
    {
     "name": "stdout",
     "output_type": "stream",
     "text": [
      "FundData already exists in vectorbt namespace\n"
     ]
    }
   ],
   "source": [
    "from dffc.fund_data import register_fund_data\n",
    "\n",
    "register_fund_data()"
   ]
  },
  {
   "cell_type": "code",
   "execution_count": 4,
   "id": "80825efa",
   "metadata": {},
   "outputs": [],
   "source": [
    "ndgd_data = vbt.FundData.download(\n",
    "    ['007467', '110022'], \n",
    "    names = ['ND', 'GD'],\n",
    "    start='2025-01-01',\n",
    "    end=\"2025-08-01\"\n",
    ")"
   ]
  },
  {
   "cell_type": "code",
   "execution_count": 4,
   "id": "f17d5b1c",
   "metadata": {},
   "outputs": [],
   "source": [
    "ndgd_data = ndgd_data.update()"
   ]
  },
  {
   "cell_type": "code",
   "execution_count": 4,
   "id": "5e9a3248",
   "metadata": {},
   "outputs": [
    {
     "data": {
      "text/html": [
       "<div>\n",
       "<style scoped>\n",
       "    .dataframe tbody tr th:only-of-type {\n",
       "        vertical-align: middle;\n",
       "    }\n",
       "\n",
       "    .dataframe tbody tr th {\n",
       "        vertical-align: top;\n",
       "    }\n",
       "\n",
       "    .dataframe thead th {\n",
       "        text-align: right;\n",
       "    }\n",
       "</style>\n",
       "<table border=\"1\" class=\"dataframe\">\n",
       "  <thead>\n",
       "    <tr style=\"text-align: right;\">\n",
       "      <th>symbol</th>\n",
       "      <th>007467</th>\n",
       "      <th>110022</th>\n",
       "    </tr>\n",
       "    <tr>\n",
       "      <th>date</th>\n",
       "      <th></th>\n",
       "      <th></th>\n",
       "    </tr>\n",
       "  </thead>\n",
       "  <tbody>\n",
       "    <tr>\n",
       "      <th>2025-01-02 00:00:00+08:00</th>\n",
       "      <td>1.6138</td>\n",
       "      <td>3.526</td>\n",
       "    </tr>\n",
       "    <tr>\n",
       "      <th>2025-01-03 00:00:00+08:00</th>\n",
       "      <td>1.5974</td>\n",
       "      <td>3.496</td>\n",
       "    </tr>\n",
       "    <tr>\n",
       "      <th>2025-01-06 00:00:00+08:00</th>\n",
       "      <td>1.6011</td>\n",
       "      <td>3.466</td>\n",
       "    </tr>\n",
       "    <tr>\n",
       "      <th>2025-01-07 00:00:00+08:00</th>\n",
       "      <td>1.6043</td>\n",
       "      <td>3.486</td>\n",
       "    </tr>\n",
       "    <tr>\n",
       "      <th>2025-01-08 00:00:00+08:00</th>\n",
       "      <td>1.6114</td>\n",
       "      <td>3.505</td>\n",
       "    </tr>\n",
       "    <tr>\n",
       "      <th>...</th>\n",
       "      <td>...</td>\n",
       "      <td>...</td>\n",
       "    </tr>\n",
       "    <tr>\n",
       "      <th>2025-07-28 00:00:00+08:00</th>\n",
       "      <td>1.6773</td>\n",
       "      <td>3.417</td>\n",
       "    </tr>\n",
       "    <tr>\n",
       "      <th>2025-07-29 00:00:00+08:00</th>\n",
       "      <td>1.6682</td>\n",
       "      <td>3.399</td>\n",
       "    </tr>\n",
       "    <tr>\n",
       "      <th>2025-07-30 00:00:00+08:00</th>\n",
       "      <td>1.6749</td>\n",
       "      <td>3.420</td>\n",
       "    </tr>\n",
       "    <tr>\n",
       "      <th>2025-07-31 00:00:00+08:00</th>\n",
       "      <td>1.6560</td>\n",
       "      <td>3.342</td>\n",
       "    </tr>\n",
       "    <tr>\n",
       "      <th>2025-08-01 00:00:00+08:00</th>\n",
       "      <td>1.6555</td>\n",
       "      <td>3.348</td>\n",
       "    </tr>\n",
       "  </tbody>\n",
       "</table>\n",
       "<p>141 rows × 2 columns</p>\n",
       "</div>"
      ],
      "text/plain": [
       "symbol                     007467  110022\n",
       "date                                     \n",
       "2025-01-02 00:00:00+08:00  1.6138   3.526\n",
       "2025-01-03 00:00:00+08:00  1.5974   3.496\n",
       "2025-01-06 00:00:00+08:00  1.6011   3.466\n",
       "2025-01-07 00:00:00+08:00  1.6043   3.486\n",
       "2025-01-08 00:00:00+08:00  1.6114   3.505\n",
       "...                           ...     ...\n",
       "2025-07-28 00:00:00+08:00  1.6773   3.417\n",
       "2025-07-29 00:00:00+08:00  1.6682   3.399\n",
       "2025-07-30 00:00:00+08:00  1.6749   3.420\n",
       "2025-07-31 00:00:00+08:00  1.6560   3.342\n",
       "2025-08-01 00:00:00+08:00  1.6555   3.348\n",
       "\n",
       "[141 rows x 2 columns]"
      ]
     },
     "execution_count": 4,
     "metadata": {},
     "output_type": "execute_result"
    }
   ],
   "source": [
    "ndgd_data.get('unit_value')"
   ]
  },
  {
   "cell_type": "code",
   "execution_count": 18,
   "id": "43ef9f97",
   "metadata": {},
   "outputs": [
    {
     "name": "stdout",
     "output_type": "stream",
     "text": [
      "1.6056000000000001 -0.008944000000000018 [0.99499956 0.99073483 0.99303175 1.00625013 1.01498374]\n"
     ]
    }
   ],
   "source": [
    "hw = HW.run(ndgd_data.get('unit_value')['007467'], alpha=0.2, beta=0.1, gamma=0.1, m=5)"
   ]
  }
 ],
 "metadata": {
  "kernelspec": {
   "display_name": "quant",
   "language": "python",
   "name": "python3"
  },
  "language_info": {
   "codemirror_mode": {
    "name": "ipython",
    "version": 3
   },
   "file_extension": ".py",
   "mimetype": "text/x-python",
   "name": "python",
   "nbconvert_exporter": "python",
   "pygments_lexer": "ipython3",
   "version": "3.12.11"
  }
 },
 "nbformat": 4,
 "nbformat_minor": 5
}
